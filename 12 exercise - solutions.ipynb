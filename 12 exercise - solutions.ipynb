{
 "cells": [
  {
   "cell_type": "markdown",
   "metadata": {},
   "source": [
    "# Exercise #2"
   ]
  },
  {
   "cell_type": "markdown",
   "metadata": {},
   "source": [
    "Write a function that asks the user for his age and comment on it. if less than 10 -> you are very young, 10-50 -> any comment you like, more than 50 -> \" you are a big boy. of course you can change the age criteria and comments as you wish. "
   ]
  },
  {
   "cell_type": "code",
   "execution_count": 9,
   "metadata": {},
   "outputs": [
    {
     "name": "stdin",
     "output_type": "stream",
     "text": [
      "How lod are you? 100\n"
     ]
    },
    {
     "name": "stdout",
     "output_type": "stream",
     "text": [
      "You are a big boy dear.\n"
     ]
    }
   ],
   "source": [
    "age = int(input('How lod are you?'))\n",
    "\n",
    "if age < 10: \n",
    "    print(f'Hi, You are very young. only {age} years old.')\n",
    "elif age < 50:\n",
    "    print(f'I see you are in your best days. you have {50-age} years left to get to 50')\n",
    "else:\n",
    "    print('You are a big boy dear.')"
   ]
  },
  {
   "cell_type": "markdown",
   "metadata": {},
   "source": [
    "Better clean way:"
   ]
  },
  {
   "cell_type": "code",
   "execution_count": 10,
   "metadata": {},
   "outputs": [
    {
     "name": "stdin",
     "output_type": "stream",
     "text": [
      "How old are you? d\n"
     ]
    },
    {
     "name": "stdout",
     "output_type": "stream",
     "text": [
      "You need to enter a number. try next time\n"
     ]
    }
   ],
   "source": [
    "def check_age(age):\n",
    "    if age < 10: \n",
    "        print(f'Hi, You are very young. only {age} years old.')\n",
    "    elif age < 50:\n",
    "        print(f'I see you are in your best days. you have {50-age} years left to get to 50')\n",
    "    else:\n",
    "        print('You are a big boy dear.')\n",
    "        \n",
    "try:\n",
    "    age = int(input('How old are you?'))\n",
    "    check_age(age)\n",
    "except:\n",
    "    print('You need to enter a number. try next time')"
   ]
  },
  {
   "cell_type": "markdown",
   "metadata": {},
   "source": [
    "write a function that gets 2 arguments and finds all prime numbers between them. "
   ]
  },
  {
   "cell_type": "code",
   "execution_count": 13,
   "metadata": {},
   "outputs": [
    {
     "name": "stdout",
     "output_type": "stream",
     "text": [
      "[11, 13, 17, 19, 23]\n"
     ]
    }
   ],
   "source": [
    "import math\n",
    "\n",
    "def is_prime(num):\n",
    "    if num%2 == 0:\n",
    "        return False\n",
    "    for i in range(3, int(math.sqrt(num))+1):\n",
    "        if num%i == 0:\n",
    "            return False\n",
    "    return True\n",
    "    \n",
    "primes = []\n",
    "def find_prime(low, high):\n",
    "    for test in range(low, high+1):\n",
    "        if is_prime(test):\n",
    "            primes.append(test)\n",
    "            \n",
    "find_prime(10,23)\n",
    "print(primes)\n",
    "                   "
   ]
  },
  {
   "cell_type": "markdown",
   "metadata": {},
   "source": [
    "find all numbers that can be devided by 7 up to the number 100"
   ]
  },
  {
   "cell_type": "code",
   "execution_count": 15,
   "metadata": {},
   "outputs": [
    {
     "name": "stdout",
     "output_type": "stream",
     "text": [
      "[7, 14, 21, 28, 35, 42, 49, 56, 63, 70, 77, 84, 91, 98]\n"
     ]
    }
   ],
   "source": [
    "sevens = []\n",
    "for i in range(1,101):\n",
    "    if i%7 == 0:\n",
    "        sevens.append(i)\n",
    "print(sevens)"
   ]
  },
  {
   "cell_type": "markdown",
   "metadata": {},
   "source": [
    "write a functions that gets a radius and returns its volum "
   ]
  },
  {
   "cell_type": "code",
   "execution_count": 16,
   "metadata": {},
   "outputs": [],
   "source": [
    "def circle(radius):\n",
    "    return math.pi*radius**2"
   ]
  },
  {
   "cell_type": "code",
   "execution_count": 21,
   "metadata": {},
   "outputs": [
    {
     "name": "stdout",
     "output_type": "stream",
     "text": [
      "28.274333882308138 cm2 \n"
     ]
    }
   ],
   "source": [
    "print(f'{circle(3)} cm2 ')"
   ]
  },
  {
   "cell_type": "code",
   "execution_count": null,
   "metadata": {},
   "outputs": [],
   "source": []
  }
 ],
 "metadata": {
  "kernelspec": {
   "display_name": "Python 3",
   "language": "python",
   "name": "python3"
  },
  "language_info": {
   "codemirror_mode": {
    "name": "ipython",
    "version": 3
   },
   "file_extension": ".py",
   "mimetype": "text/x-python",
   "name": "python",
   "nbconvert_exporter": "python",
   "pygments_lexer": "ipython3",
   "version": "3.8.3"
  }
 },
 "nbformat": 4,
 "nbformat_minor": 4
}
